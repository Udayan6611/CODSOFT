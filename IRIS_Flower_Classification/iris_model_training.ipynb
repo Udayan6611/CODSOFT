{
 "cells": [
  {
   "cell_type": "code",
   "execution_count": null,
   "id": "4177e916",
   "metadata": {},
   "outputs": [],
   "source": [
    "import pandas as pd\n",
    "import numpy as np\n",
    "from sklearn.preprocessing import LabelEncoder, StandardScaler\n",
    "from sklearn.model_selection import train_test_split\n",
    "\n",
    "# Load dataset\n",
    "df = pd.read_csv(\"IRIS.csv\")\n",
    "\n",
    "# Encode species\n",
    "le = LabelEncoder()\n",
    "df['species_encoded'] = le.fit_transform(df['species'])\n",
    "\n",
    "# Split features and labels\n",
    "X = df.drop(['species', 'species_encoded'], axis=1)\n",
    "y = df['species_encoded']\n",
    "\n",
    "# Train-test split \n",
    "X_train, X_test, y_train, y_test = train_test_split(\n",
    "    X, y, test_size=0.2, random_state=42, stratify=y)\n",
    "\n",
    "# Scale features\n",
    "scaler = StandardScaler()\n",
    "X_train_scaled = scaler.fit_transform(X_train)\n",
    "X_test_scaled = scaler.transform(X_test)\n"
   ]
  },
  {
   "cell_type": "code",
   "execution_count": null,
   "id": "e72bcf20",
   "metadata": {},
   "outputs": [],
   "source": [
    "from sklearn.ensemble import RandomForestClassifier\n",
    "from sklearn.metrics import accuracy_score, classification_report, confusion_matrix\n",
    "\n",
    "# Train Random Forest\n",
    "rf = RandomForestClassifier(n_estimators=100, random_state=42)\n",
    "rf.fit(X_train, y_train)\n",
    "\n",
    "# Predict\n",
    "y_pred = rf.predict(X_test)\n",
    "\n",
    "# Evaluate\n",
    "print(\"Accuracy:\", accuracy_score(y_test, y_pred))\n",
    "print(\"\\nClassification Report:\\n\", classification_report(y_test, y_pred))\n",
    "print(\"\\nConfusion Matrix:\\n\", confusion_matrix(y_test, y_pred))\n"
   ]
  },
  {
   "cell_type": "code",
   "execution_count": null,
   "id": "7a4af29b",
   "metadata": {},
   "outputs": [],
   "source": [
    "import joblib\n",
    "\n",
    "joblib.dump(rf, \"iris_random_forest_model.pkl\")\n",
    "joblib.dump(scaler, \"iris_scaler.pkl\")\n"
   ]
  },
  {
   "cell_type": "code",
   "execution_count": null,
   "id": "839845ad",
   "metadata": {},
   "outputs": [],
   "source": [
    "import matplotlib.pyplot as plt\n",
    "import seaborn as sns\n",
    "\n",
    "plt.figure(figsize=(8, 5))\n",
    "sns.violinplot(x='species', y='petal_width', data=df, palette='pastel')\n",
    "plt.title(\"Distribution of Petal Width per Iris Species\")\n",
    "plt.ylabel(\"Petal Width (cm)\")\n",
    "plt.xlabel(\"Species\")\n",
    "plt.tight_layout()\n",
    "plt.savefig(\"violin_plot_petal_width.png\")\n",
    "plt.show()\n"
   ]
  },
  {
   "cell_type": "code",
   "execution_count": null,
   "id": "ac55bdb2",
   "metadata": {},
   "outputs": [],
   "source": [
    "from matplotlib.colors import ListedColormap\n",
    "\n",
    "# Use petal_length and petal_width only\n",
    "X_vis = df[['petal_length', 'petal_width']].values\n",
    "y_vis = df['species_encoded'].values\n",
    "\n",
    "clf_vis = RandomForestClassifier(n_estimators=50, random_state=42)\n",
    "clf_vis.fit(X_vis, y_vis)\n",
    "\n",
    "# Mesh grid\n",
    "x_min, x_max = X_vis[:, 0].min() - 1, X_vis[:, 0].max() + 1\n",
    "y_min, y_max = X_vis[:, 1].min() - 1, X_vis[:, 1].max() + 1\n",
    "xx, yy = np.meshgrid(np.arange(x_min, x_max, 0.02),\n",
    "                     np.arange(y_min, y_max, 0.02))\n",
    "Z = clf_vis.predict(np.c_[xx.ravel(), yy.ravel()])\n",
    "Z = Z.reshape(xx.shape)\n",
    "\n",
    "# Plot\n",
    "plt.figure(figsize=(8, 6))\n",
    "cmap_light = ListedColormap(['#FFAAAA', '#AAFFAA', '#AAAAFF'])\n",
    "cmap_bold = ['#FF0000', '#00FF00', '#0000FF']\n",
    "\n",
    "plt.contourf(xx, yy, Z, cmap=cmap_light, alpha=0.6)\n",
    "sns.scatterplot(x=X_vis[:, 0], y=X_vis[:, 1], hue=df['species'],\n",
    "                palette=cmap_bold, edgecolor='k', s=70)\n",
    "\n",
    "plt.xlabel(\"Petal Length\")\n",
    "plt.ylabel(\"Petal Width\")\n",
    "plt.title(\"Decision Boundary - Random Forest (Petal Features)\")\n",
    "plt.tight_layout()\n",
    "plt.savefig(\"decision_boundary.png\")\n",
    "plt.show()\n"
   ]
  }
 ],
 "metadata": {
  "kernelspec": {
   "display_name": "Python 3",
   "language": "python",
   "name": "python3"
  },
  "language_info": {
   "codemirror_mode": {
    "name": "ipython",
    "version": 3
   },
   "file_extension": ".py",
   "mimetype": "text/x-python",
   "name": "python",
   "nbconvert_exporter": "python",
   "pygments_lexer": "ipython3",
   "version": "3.13.1"
  }
 },
 "nbformat": 4,
 "nbformat_minor": 5
}
