{
 "cells": [
  {
   "cell_type": "markdown",
   "id": "f0a9e745",
   "metadata": {},
   "source": [
    "# Titanic Survival Prediction — CodSoft Task 1"
   ]
  },
  {
   "cell_type": "markdown",
   "id": "93a4d24b",
   "metadata": {},
   "source": [
    "## Import Libraries"
   ]
  },
  {
   "cell_type": "code",
   "execution_count": null,
   "id": "557d1426",
   "metadata": {},
   "outputs": [],
   "source": [
    "import pandas as pd\n",
    "import matplotlib.pyplot as plt\n",
    "import seaborn as sns\n",
    "from sklearn.model_selection import train_test_split, GridSearchCV\n",
    "from sklearn.ensemble import RandomForestClassifier\n",
    "from sklearn.metrics import accuracy_score, classification_report, confusion_matrix\n",
    "from sklearn.preprocessing import StandardScaler\n",
    "from sklearn.linear_model import LogisticRegression\n",
    "from sklearn.neighbors import KNeighborsClassifier\n",
    "import joblib\n",
    "import xgboost as xgb"
   ]
  },
  {
   "cell_type": "markdown",
   "id": "8582cc86",
   "metadata": {},
   "source": [
    "\n",
    "## Load Dataset"
   ]
  },
  {
   "cell_type": "code",
   "execution_count": null,
   "id": "5ecfd1f3",
   "metadata": {},
   "outputs": [],
   "source": [
    "df = pd.read_csv(\"Titanic-Dataset.csv\")\n",
    "df.head()"
   ]
  },
  {
   "cell_type": "markdown",
   "id": "2f47ba59",
   "metadata": {},
   "source": [
    "## Exploratory Data Analysis (EDA)"
   ]
  },
  {
   "cell_type": "markdown",
   "id": "95f9eb1f",
   "metadata": {},
   "source": [
    "### Survival Count by Gender"
   ]
  },
  {
   "cell_type": "code",
   "execution_count": null,
   "id": "18577923",
   "metadata": {},
   "outputs": [],
   "source": [
    "sns.countplot(data=df, x='Sex', hue='Survived')\n",
    "plt.title('Survival Count by Gender')\n",
    "plt.xlabel('Sex')\n",
    "plt.ylabel('Count')\n",
    "plt.legend(title='Survived', labels=['No', 'Yes'])\n",
    "plt.show()"
   ]
  },
  {
   "cell_type": "markdown",
   "id": "2b4699c1",
   "metadata": {},
   "source": [
    "### Survival Count by Passenger Class"
   ]
  },
  {
   "cell_type": "code",
   "execution_count": null,
   "id": "f6093aeb",
   "metadata": {},
   "outputs": [],
   "source": [
    "sns.countplot(data=df, x='Pclass', hue='Survived')\n",
    "plt.title('Survival Count by Passenger Class')\n",
    "plt.xlabel('Passenger Class')\n",
    "plt.ylabel('Count')\n",
    "plt.legend(title='Survived', labels=['No', 'Yes'])\n",
    "plt.show()"
   ]
  },
  {
   "cell_type": "markdown",
   "id": "ba8301be",
   "metadata": {},
   "source": [
    "### Age Distribution by Survival"
   ]
  },
  {
   "cell_type": "code",
   "execution_count": null,
   "id": "9b173d76",
   "metadata": {},
   "outputs": [],
   "source": [
    "sns.kdeplot(data=df[df['Survived']==1]['Age'], label='Survived', fill=True)\n",
    "sns.kdeplot(data=df[df['Survived']==0]['Age'], label='Did Not Survive', fill=True)\n",
    "plt.title('Age Distribution by Survival')\n",
    "plt.xlabel('Age')\n",
    "plt.legend()\n",
    "plt.show()"
   ]
  },
  {
   "cell_type": "markdown",
   "id": "14fffbc3",
   "metadata": {},
   "source": [
    "### Fare Distribution by Survival"
   ]
  },
  {
   "cell_type": "code",
   "execution_count": null,
   "id": "73bc1d8c",
   "metadata": {},
   "outputs": [],
   "source": [
    "sns.violinplot(data=df, x='Survived', y='Fare')\n",
    "plt.title('Fare Distribution by Survival')\n",
    "plt.xlabel('Survived (0 = No, 1 = Yes)')\n",
    "plt.ylabel('Fare')\n",
    "plt.show()"
   ]
  },
  {
   "cell_type": "markdown",
   "id": "70d368e3",
   "metadata": {},
   "source": [
    "### Correlation Heatmap"
   ]
  },
  {
   "cell_type": "code",
   "execution_count": null,
   "id": "81c5b852",
   "metadata": {},
   "outputs": [],
   "source": [
    "corr = df[['Survived', 'Age', 'Fare', 'Pclass', 'SibSp', 'Parch']].corr()\n",
    "sns.heatmap(corr, annot=True, cmap='coolwarm')\n",
    "plt.title('Correlation Heatmap')\n",
    "plt.show()"
   ]
  },
  {
   "cell_type": "markdown",
   "id": "0cf88669",
   "metadata": {},
   "source": [
    "## Preprocessing"
   ]
  },
  {
   "cell_type": "code",
   "execution_count": null,
   "id": "7e557205",
   "metadata": {},
   "outputs": [],
   "source": [
    "df = df.drop(['Name', 'Ticket', 'Cabin'], axis=1)\n",
    "df['Age'] = df['Age'].fillna(df['Age'].median())\n",
    "df['Embarked'] = df['Embarked'].fillna(df['Embarked'].mode()[0])\n",
    "df = pd.get_dummies(df, columns=['Sex', 'Embarked'], drop_first=True)\n",
    "df['FamilySize'] = df['SibSp'] + df['Parch'] + 1\n",
    "df['IsAlone'] = 0\n",
    "df.loc[df['FamilySize'] == 1, 'IsAlone'] = 1"
   ]
  },
  {
   "cell_type": "markdown",
   "id": "7f084c21",
   "metadata": {},
   "source": [
    "## Train-Test Split"
   ]
  },
  {
   "cell_type": "code",
   "execution_count": null,
   "id": "6b54a8b7",
   "metadata": {},
   "outputs": [],
   "source": [
    "X = df.drop('Survived', axis=1)\n",
    "y = df['Survived']\n",
    "\n",
    "X_train, X_test, y_train, y_test = train_test_split(X, y, test_size=0.2, random_state=42)"
   ]
  },
  {
   "cell_type": "markdown",
   "id": "ba0df47b",
   "metadata": {},
   "source": [
    "## Feature Scaling for Logistic Regression & k-NN\n"
   ]
  },
  {
   "cell_type": "code",
   "execution_count": null,
   "id": "275ce842",
   "metadata": {},
   "outputs": [],
   "source": [
    "scaler = StandardScaler()\n",
    "X_train_scaled = scaler.fit_transform(X_train)\n",
    "X_test_scaled = scaler.transform(X_test)"
   ]
  },
  {
   "cell_type": "markdown",
   "id": "293a1258",
   "metadata": {},
   "source": [
    "## Logistic Regression"
   ]
  },
  {
   "cell_type": "code",
   "execution_count": null,
   "id": "be9d9077",
   "metadata": {},
   "outputs": [],
   "source": [
    "lr_model = LogisticRegression()\n",
    "lr_model.fit(X_train_scaled, y_train)\n",
    "lr_pred = lr_model.predict(X_test_scaled)\n",
    "\n",
    "print(\"=== Logistic Regression ===\")\n",
    "print(\"Accuracy:\", accuracy_score(y_test, lr_pred))\n",
    "print(\"\\nConfusion Matrix:\\n\", confusion_matrix(y_test, lr_pred))\n",
    "print(\"\\nClassification Report:\\n\", classification_report(y_test, lr_pred))"
   ]
  },
  {
   "cell_type": "markdown",
   "id": "3ba316cc",
   "metadata": {},
   "source": [
    "## k-NN Classifier (k=5)"
   ]
  },
  {
   "cell_type": "code",
   "execution_count": null,
   "id": "cb0a52e7",
   "metadata": {},
   "outputs": [],
   "source": [
    "knn_model = KNeighborsClassifier(n_neighbors=5)\n",
    "knn_model.fit(X_train_scaled, y_train)\n",
    "knn_pred = knn_model.predict(X_test_scaled)\n",
    "\n",
    "print(\"=== k-NN (k=5) ===\")\n",
    "print(\"Accuracy:\", accuracy_score(y_test, knn_pred))\n",
    "print(\"\\nConfusion Matrix:\\n\", confusion_matrix(y_test, knn_pred))\n",
    "print(\"\\nClassification Report:\\n\", classification_report(y_test, knn_pred))"
   ]
  },
  {
   "cell_type": "markdown",
   "id": "7fdb74af",
   "metadata": {},
   "source": [
    "## Random Forest Classifier (Unscaled)"
   ]
  },
  {
   "cell_type": "code",
   "execution_count": null,
   "id": "e1b8ccbc",
   "metadata": {},
   "outputs": [],
   "source": [
    "rf_model = RandomForestClassifier(n_estimators=100, random_state=42)\n",
    "rf_model.fit(X_train, y_train)\n",
    "rf_pred = rf_model.predict(X_test)\n",
    "\n",
    "print(\"=== Random Forest ===\")\n",
    "print(\"Accuracy:\", accuracy_score(y_test, rf_pred))\n",
    "print(\"\\nConfusion Matrix:\\n\", confusion_matrix(y_test, rf_pred))\n",
    "print(\"\\nClassification Report:\\n\", classification_report(y_test, rf_pred))"
   ]
  },
  {
   "cell_type": "markdown",
   "id": "9d25737b",
   "metadata": {},
   "source": [
    "## Save Final Model (Random Forest)"
   ]
  },
  {
   "cell_type": "code",
   "execution_count": null,
   "id": "e4bb9071",
   "metadata": {},
   "outputs": [],
   "source": [
    "joblib.dump(rf_model, \"titanic_random_forest_model.pkl\")"
   ]
  },
  {
   "cell_type": "markdown",
   "id": "a1b2c3d4",
   "metadata": {},
   "source": [
    "## Hyperparameter Tuning (Random Forest)"
   ]
  },
  {
   "cell_type": "code",
   "execution_count": null,
   "id": "e5f6g7h8",
   "metadata": {},
   "outputs": [],
   "source": [
    "param_grid = {\n",
    "    'n_estimators': [100, 200, 300],\n",
    "    'max_depth': [None, 10, 20, 30],\n",
    "    'min_samples_split': [2, 5, 10],\n",
    "    'min_samples_leaf': [1, 2, 4]\n",
    "}\n",
    "grid_search = GridSearchCV(estimator=rf_model, param_grid=param_grid, cv=5, n_jobs=-1, verbose=2)\n",
    "grid_search.fit(X_train, y_train)\n",
    "print(\"Best Parameters:\", grid_search.best_params_)\n",
    "best_rf = grid_search.best_estimator_\n",
    "best_rf_pred = best_rf.predict(X_test)\n",
    "print(\"\\n=== Tuned Random Forest ===\")\n",
    "print(\"Accuracy:\", accuracy_score(y_test, best_rf_pred))\n",
    "print(\"\\nConfusion Matrix:\\n\", confusion_matrix(y_test, best_rf_pred))\n",
    "print(\"\\nClassification Report:\\n\", classification_report(y_test, best_rf_pred))\n",
    "joblib.dump(best_rf, \"titanic_random_forest_model_tuned.pkl\")"
   ]
  },
  {
   "cell_type": "markdown",
   "id": "b2c3d4e5",
   "metadata": {},
   "source": [
    "## XGBoost Classifier"
   ]
  },
  {
   "cell_type": "code",
   "execution_count": null,
   "id": "f6g7h8i9",
   "metadata": {},
   "outputs": [],
   "source": [
    "xgb_model = xgb.XGBClassifier(objective=\"binary:logistic\", eval_metric=\"logloss\", use_label_encoder=False)\n",
    "xgb_model.fit(X_train, y_train)\n",
    "xgb_pred = xgb_model.predict(X_test)\n",
    "print(\"\\n=== XGBoost Classifier ===\")\n",
    "print(\"Accuracy:\", accuracy_score(y_test, xgb_pred))\n",
    "print(\"\\nConfusion Matrix:\\n\", confusion_matrix(y_test, xgb_pred))\n",
    "print(\"\\nClassification Report:\\n\", classification_report(y_test, xgb_pred))\n",
    "joblib.dump(xgb_model, \"titanic_xgboost_model.pkl\")"
   ]
  }
 ],
 "metadata": {
  "kernelspec": {
   "display_name": "Python 3",
   "language": "python",
   "name": "python3"
  },
  "language_info": {
   "codemirror_mode": {
    "name": "ipython",
    "version": 3
   },
   "file_extension": ".py",
   "mimetype": "text/x-python",
   "name": "python",
   "nbconvert_exporter": "python",
   "pygments_lexer": "ipython3",
   "version": "3.13.5"
  }
 },
 "nbformat": 4,
 "nbformat_minor": 5
}
